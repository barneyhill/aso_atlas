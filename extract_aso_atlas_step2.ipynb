{
 "cells": [
  {
   "cell_type": "code",
   "execution_count": 1,
   "metadata": {},
   "outputs": [],
   "source": [
    "import pickle\n",
    "import os\n",
    "\n",
    "file_path = 'data/stage3_batch_response_v2.pkl'\n",
    "\n",
    "if os.path.exists(file_path):\n",
    "   with open(file_path, 'rb') as f:\n",
    "       stage3_batch_response = pickle.load(f)"
   ]
  },
  {
   "cell_type": "code",
   "execution_count": 5,
   "metadata": {},
   "outputs": [
    {
     "name": "stderr",
     "output_type": "stream",
     "text": [
      "Processing Test Batch: 100%|██████████| 5054/5054 [09:38<00:00,  8.74it/s]\n"
     ]
    }
   ],
   "source": [
    "from src.client import ASOClient\n",
    "client = ASOClient(model='gpt-5-mini', verbosity='low', reasoning_effort='low', service_tier=\"default\")\n",
    "\n",
    "stage4_batch_str = client.create_stage4_batch_str(\n",
    "    custom_ids=[response['custom_id'] for response in stage3_batch_response],\n",
    "    n_files = 1000000,\n",
    ")\n",
    "stage4_batch_response = client.test_batch_request(stage4_batch_str)"
   ]
  },
  {
   "cell_type": "code",
   "execution_count": 6,
   "metadata": {},
   "outputs": [],
   "source": [
    "import pickle\n",
    "import os\n",
    "\n",
    "file_path = 'data/stage4_batch_response_v2.pkl'\n",
    "\n",
    "if os.path.exists(file_path):\n",
    "   with open(file_path, 'rb') as f:\n",
    "       stage4_batch_response = pickle.load(f)\n",
    "else:\n",
    "   with open(file_path, 'wb') as f:\n",
    "       pickle.dump(stage4_batch_response, f)"
   ]
  },
  {
   "cell_type": "code",
   "execution_count": 7,
   "metadata": {},
   "outputs": [
    {
     "data": {
      "application/vnd.microsoft.datawrangler.viewer.v0+json": {
       "columns": [
        {
         "name": "index",
         "rawType": "int64",
         "type": "integer"
        },
        {
         "name": "target_mrna",
         "rawType": "object",
         "type": "unknown"
        },
        {
         "name": "target_gene",
         "rawType": "object",
         "type": "unknown"
        },
        {
         "name": "cell_line",
         "rawType": "object",
         "type": "unknown"
        },
        {
         "name": "cell_line_species",
         "rawType": "object",
         "type": "string"
        },
        {
         "name": "dosage",
         "rawType": "object",
         "type": "unknown"
        },
        {
         "name": "cells_per_well",
         "rawType": "object",
         "type": "unknown"
        },
        {
         "name": "transfection_method",
         "rawType": "object",
         "type": "string"
        },
        {
         "name": "custom_id",
         "rawType": "object",
         "type": "string"
        }
       ],
       "ref": "8232d288-5c4b-40ba-bcc2-28d9e2150e19",
       "rows": [
        [
         "0",
         "APP",
         "APP",
         "SH-SY5Y",
         "human",
         "4000.0",
         "20000",
         "Electroporation",
         "patent-scrape-v2/data/inhibition_tables/US20230055405A1_table_00014.xml"
        ],
        [
         "1",
         "PKK",
         "KLKB1",
         "HepaRG",
         "human",
         "5000.0",
         "20000",
         "Electroporation",
         "patent-scrape-v2/data/inhibition_tables/US20170314026A1_table_00029.xml"
        ],
        [
         "2",
         "ATXN2",
         "ATXN2",
         "A431",
         "human",
         "6000.0",
         "10000",
         "Electroporation",
         "patent-scrape-v2/data/inhibition_tables/US20240401039A1_table_00025.xml"
        ],
        [
         "3",
         "PTPRU",
         "PTPRU",
         "RAW 264.7",
         "mouse",
         "100.0",
         null,
         "Lipofection",
         "patent-scrape-v2/data/inhibition_tables/US20110112171A1_table_00014.xml"
        ],
        [
         "4",
         "apo(a)",
         "LPA",
         "primary hepatocytes",
         "mouse",
         "1000.0",
         "35000",
         "Electroporation",
         "patent-scrape-v2/data/inhibition_tables/US20240067964A1_table_00030.xml"
        ],
        [
         "5",
         "GHR",
         "GHR",
         "Hep3B",
         "human",
         "5000.0",
         "20000",
         "Electroporation",
         "patent-scrape-v2/data/inhibition_tables/US20170073689A1_table_00064.xml"
        ],
        [
         "6",
         "K-Ras",
         "KRAS",
         "A431",
         "human",
         "2000.0",
         "5000",
         "Gymnosis",
         "patent-scrape-v2/data/inhibition_tables/US20180273577A1_table_00020.xml"
        ],
        [
         "7",
         "STAT3",
         "STAT3",
         "HuVEC",
         "human",
         "30.0",
         "5000",
         "Lipofection",
         "patent-scrape-v2/data/inhibition_tables/US20160348104A1_table_00053.xml"
        ],
        [
         "8",
         "IRF5",
         "IRF5",
         "THP-1",
         "human",
         "2000.0",
         "30000",
         "Electroporation",
         "patent-scrape-v2/data/inhibition_tables/US20200208147A1_table_00012.xml"
        ],
        [
         "9",
         "PNPLA3",
         "PNPLA3",
         "A431",
         "human",
         "4000.0",
         "20000",
         "Gymnosis",
         "patent-scrape-v2/data/inhibition_tables/US20200140869A1_table_00014.xml"
        ],
        [
         "10",
         "ANGPTL3",
         "ANGPTL3",
         "Hep3B",
         "human",
         "4500.0",
         "20000",
         "Electroporation",
         "patent-scrape-v2/data/inhibition_tables/US20150315594A1_table_00127.xml"
        ],
        [
         "11",
         "Factor 11",
         "F11",
         null,
         "human",
         null,
         null,
         "Other",
         "patent-scrape-v2/data/inhibition_tables/US20200000839A1_table_00006.xml"
        ],
        [
         "12",
         "DMPK",
         "DMPK",
         "hSKMc",
         "human",
         "10000.0",
         "20000",
         "Electroporation",
         "patent-scrape-v2/data/inhibition_tables/US20160304877A1_table_00003.xml"
        ],
        [
         "13",
         "apo(a)",
         "LPA",
         "primary hepatocytes",
         "mouse",
         "1000.0",
         "35000",
         "Electroporation",
         "patent-scrape-v2/data/inhibition_tables/US20240352455A1_table_00140.xml"
        ],
        [
         "14",
         "apo(a)",
         "LPA",
         "primary hepatocytes",
         "mouse",
         "1000.0",
         "35000",
         "Electroporation",
         "patent-scrape-v2/data/inhibition_tables/US20210002643A1_table_00006.xml"
        ],
        [
         "15",
         "PKK",
         "PKK",
         "HepaRG",
         "human",
         "3000.0",
         "20000",
         "Electroporation",
         "patent-scrape-v2/data/inhibition_tables/US20200056185A1_table_00120.xml"
        ],
        [
         "16",
         "Foxp3",
         "FOXP3",
         "LNCaP",
         "human",
         "3000.0",
         "30000",
         "Electroporation",
         "patent-scrape-v2/data/inhibition_tables/US20200179435A1_table_00003.xml"
        ],
        [
         "17",
         "huntingtin interacting protein 2",
         "HIP2",
         "T-24",
         "human",
         null,
         null,
         "Other",
         "patent-scrape-v2/data/inhibition_tables/US20040102394A1_table_2.xml"
        ],
        [
         "18",
         "apo(a)",
         "LPA",
         "primary hepatocytes",
         "mouse",
         "1000.0",
         "35000",
         "Electroporation",
         "patent-scrape-v2/data/inhibition_tables/US20170121710A1_table_00028.xml"
        ],
        [
         "19",
         "SCN2A",
         "SCN2A",
         "SH-SY5Y",
         "human",
         "4000.0",
         "20000",
         "Electroporation",
         "patent-scrape-v2/data/inhibition_tables/US20240026353A1_table_00040.xml"
        ],
        [
         "20",
         "IRF4",
         "IRF4",
         "MM.1R",
         "human",
         "1000.0",
         "5000",
         "Gymnosis",
         "patent-scrape-v2/data/inhibition_tables/US20210038631A1_table_00054.xml"
        ],
        [
         "21",
         "Talin",
         "TLN1",
         null,
         "human",
         null,
         null,
         "Other",
         "patent-scrape-v2/data/inhibition_tables/US20020147166A1_table_1.xml"
        ],
        [
         "22",
         "IRF4",
         "IRF4",
         "SK-MEL-28",
         "human",
         "4000.0",
         "20000",
         "Electroporation",
         "patent-scrape-v2/data/inhibition_tables/US20210038631A1_table_00013.xml"
        ],
        [
         "23",
         "ANGPTL3",
         "ANGPTL3",
         "Hep3B",
         "human",
         "4500.0",
         "20000",
         "Electroporation",
         "patent-scrape-v2/data/inhibition_tables/US20190016748A1_table_00120.xml"
        ],
        [
         "24",
         "LRRK2",
         "LRRK2",
         "SH-SY5Y",
         "human",
         "4000.0",
         "20000",
         "Electroporation",
         "patent-scrape-v2/data/inhibition_tables/US20230114930A1_table_00011.xml"
        ],
        [
         "25",
         "UBE3A-ATS",
         "UBE3A",
         "iCell GABANeurons",
         "human",
         "5000.0",
         "20000",
         "Gymnosis",
         "patent-scrape-v2/data/inhibition_tables/US20210277397A1_table_00028.xml"
        ],
        [
         "26",
         "ATXN2",
         "ATXN2",
         "SCA2-04",
         "human",
         "31.25",
         "20000",
         "Electroporation",
         "patent-scrape-v2/data/inhibition_tables/US20200056179A1_table_00043.xml"
        ],
        [
         "27",
         "NLRP3",
         "NLRP3",
         "THP-1",
         "human",
         "2000.0",
         "100000",
         "Electroporation",
         "patent-scrape-v2/data/inhibition_tables/US20240191233A1_table_00009.xml"
        ],
        [
         "28",
         "Tau",
         "MAPT",
         "SH-SY5Y",
         "human",
         "8000.0",
         "20000",
         "Electroporation",
         "patent-scrape-v2/data/inhibition_tables/US20180094261A1_table_00014.xml"
        ],
        [
         "29",
         "PLP1",
         "PLP1",
         "SK-MEL-28",
         "human",
         "7000.0",
         "20000",
         "Electroporation",
         "patent-scrape-v2/data/inhibition_tables/US20220056445A1_table_00031.xml"
        ],
        [
         "30",
         "CFB",
         "CFB",
         "HepG2",
         "human",
         "3000.0",
         "20000",
         "Electroporation",
         "patent-scrape-v2/data/inhibition_tables/US20220243209A1_table_00015.xml"
        ],
        [
         "31",
         "GFAP",
         "GFAP",
         "U251",
         "human",
         "4000.0",
         "10000",
         "Gymnosis",
         "patent-scrape-v2/data/inhibition_tables/US20210038629A1_table_00038.xml"
        ],
        [
         "32",
         "STAT5A",
         "STAT5A",
         "T-24",
         "human",
         "150.0",
         null,
         "Other",
         "patent-scrape-v2/data/inhibition_tables/US20100311814A1_table_00001.xml"
        ],
        [
         "33",
         "IRF4",
         "IRF4",
         "MM.1R",
         "human",
         "1000.0",
         "5000",
         "Gymnosis",
         "patent-scrape-v2/data/inhibition_tables/US20220241320A1_table_00058.xml"
        ],
        [
         "34",
         "angiopoietin-like 3",
         "ANGPTL3",
         "Huh7",
         "human",
         "150.0",
         null,
         "Lipofection",
         "patent-scrape-v2/data/inhibition_tables/US20140193825A1_table_00004.xml"
        ],
        [
         "35",
         "APOE",
         "APOE",
         "HepG2",
         "human",
         "100.0",
         "10000",
         "Lipofection",
         "patent-scrape-v2/data/inhibition_tables/US20230357770A1_table_00007.xml"
        ],
        [
         "36",
         "LRRK2",
         "LRRK2",
         "SH-SY5Y",
         "human",
         "4000.0",
         "20000",
         "Electroporation",
         "patent-scrape-v2/data/inhibition_tables/US20230114930A1_table_00032.xml"
        ],
        [
         "37",
         "IRF4",
         "IRF4",
         "SK-MEL-28",
         "human",
         "4000.0",
         "20000",
         "Electroporation",
         "patent-scrape-v2/data/inhibition_tables/US20220241320A1_table_00035.xml"
        ],
        [
         "38",
         "apo(a)",
         "LPA",
         "primary hepatocytes",
         "mouse",
         "1000.0",
         "35000",
         "Electroporation",
         "patent-scrape-v2/data/inhibition_tables/US20240352455A1_table_00124.xml"
        ],
        [
         "39",
         "MAD1-like 1",
         "MAD1L1",
         null,
         "human",
         null,
         null,
         "Other",
         "patent-scrape-v2/data/inhibition_tables/US20040115650A1_table_3.xml"
        ],
        [
         "40",
         "GHR",
         "GHR",
         "Hep3B",
         "human",
         "4500.0",
         "20000",
         "Electroporation",
         "patent-scrape-v2/data/inhibition_tables/US20230118177A1_table_00123.xml"
        ],
        [
         "41",
         "PKK",
         "PKK",
         "HepaRG",
         "human",
         "3000.0",
         "20000",
         "Electroporation",
         "patent-scrape-v2/data/inhibition_tables/US20190233827A1_table_00001.xml"
        ],
        [
         "42",
         "squalene synthase",
         "FDFT1",
         "T-24",
         "human",
         null,
         null,
         "Other",
         "patent-scrape-v2/data/inhibition_tables/US20040102405A1_table_2.xml"
        ],
        [
         "43",
         "B7H",
         null,
         "P388D1",
         "mouse",
         null,
         null,
         "Other",
         "patent-scrape-v2/data/inhibition_tables/US20040102398A1_table_3.xml"
        ],
        [
         "44",
         "DGAT2",
         "DGAT2",
         "HepG2",
         "human",
         "4500.0",
         "20000",
         "Electroporation",
         "patent-scrape-v2/data/inhibition_tables/US20230047452A1_table_00026.xml"
        ],
        [
         "45",
         "EZH2",
         "EZH2",
         "HepG2",
         "human",
         "2000.0",
         "20000",
         "Electroporation",
         "patent-scrape-v2/data/inhibition_tables/US20210155935A1_table_00005.xml"
        ],
        [
         "46",
         "PNPLA3",
         "PNPLA3",
         "A431",
         "human",
         "4000.0",
         "20000",
         "Gymnosis",
         "patent-scrape-v2/data/inhibition_tables/US20240076675A1_table_00032.xml"
        ],
        [
         "47",
         "IRF4",
         "IRF4",
         "SK-MEL-28",
         "human",
         "4000.0",
         "20000",
         "Electroporation",
         "patent-scrape-v2/data/inhibition_tables/US20210038631A1_table_00010.xml"
        ],
        [
         "48",
         "apo(a)",
         "LPA",
         "primary hepatocytes",
         "mouse",
         "1000.0",
         "35000",
         "Electroporation",
         "patent-scrape-v2/data/inhibition_tables/US20210002643A1_table_00010.xml"
        ],
        [
         "49",
         "UBE3A-ATS",
         "UBE3A",
         "iCell GABANeurons",
         "human",
         "5000.0",
         "20000",
         "Gymnosis",
         "patent-scrape-v2/data/inhibition_tables/US20210277397A1_table_00014.xml"
        ]
       ],
       "shape": {
        "columns": 8,
        "rows": 5054
       }
      },
      "text/html": [
       "<div>\n",
       "<style scoped>\n",
       "    .dataframe tbody tr th:only-of-type {\n",
       "        vertical-align: middle;\n",
       "    }\n",
       "\n",
       "    .dataframe tbody tr th {\n",
       "        vertical-align: top;\n",
       "    }\n",
       "\n",
       "    .dataframe thead th {\n",
       "        text-align: right;\n",
       "    }\n",
       "</style>\n",
       "<table border=\"1\" class=\"dataframe\">\n",
       "  <thead>\n",
       "    <tr style=\"text-align: right;\">\n",
       "      <th></th>\n",
       "      <th>target_mrna</th>\n",
       "      <th>target_gene</th>\n",
       "      <th>cell_line</th>\n",
       "      <th>cell_line_species</th>\n",
       "      <th>dosage</th>\n",
       "      <th>cells_per_well</th>\n",
       "      <th>transfection_method</th>\n",
       "      <th>custom_id</th>\n",
       "    </tr>\n",
       "  </thead>\n",
       "  <tbody>\n",
       "    <tr>\n",
       "      <th>0</th>\n",
       "      <td>APP</td>\n",
       "      <td>APP</td>\n",
       "      <td>SH-SY5Y</td>\n",
       "      <td>human</td>\n",
       "      <td>4000.0</td>\n",
       "      <td>20000</td>\n",
       "      <td>Electroporation</td>\n",
       "      <td>patent-scrape-v2/data/inhibition_tables/US2023...</td>\n",
       "    </tr>\n",
       "    <tr>\n",
       "      <th>1</th>\n",
       "      <td>PKK</td>\n",
       "      <td>KLKB1</td>\n",
       "      <td>HepaRG</td>\n",
       "      <td>human</td>\n",
       "      <td>5000.0</td>\n",
       "      <td>20000</td>\n",
       "      <td>Electroporation</td>\n",
       "      <td>patent-scrape-v2/data/inhibition_tables/US2017...</td>\n",
       "    </tr>\n",
       "    <tr>\n",
       "      <th>2</th>\n",
       "      <td>ATXN2</td>\n",
       "      <td>ATXN2</td>\n",
       "      <td>A431</td>\n",
       "      <td>human</td>\n",
       "      <td>6000.0</td>\n",
       "      <td>10000</td>\n",
       "      <td>Electroporation</td>\n",
       "      <td>patent-scrape-v2/data/inhibition_tables/US2024...</td>\n",
       "    </tr>\n",
       "    <tr>\n",
       "      <th>3</th>\n",
       "      <td>PTPRU</td>\n",
       "      <td>PTPRU</td>\n",
       "      <td>RAW 264.7</td>\n",
       "      <td>mouse</td>\n",
       "      <td>100.0</td>\n",
       "      <td>&lt;NA&gt;</td>\n",
       "      <td>Lipofection</td>\n",
       "      <td>patent-scrape-v2/data/inhibition_tables/US2011...</td>\n",
       "    </tr>\n",
       "    <tr>\n",
       "      <th>4</th>\n",
       "      <td>apo(a)</td>\n",
       "      <td>LPA</td>\n",
       "      <td>primary hepatocytes</td>\n",
       "      <td>mouse</td>\n",
       "      <td>1000.0</td>\n",
       "      <td>35000</td>\n",
       "      <td>Electroporation</td>\n",
       "      <td>patent-scrape-v2/data/inhibition_tables/US2024...</td>\n",
       "    </tr>\n",
       "    <tr>\n",
       "      <th>...</th>\n",
       "      <td>...</td>\n",
       "      <td>...</td>\n",
       "      <td>...</td>\n",
       "      <td>...</td>\n",
       "      <td>...</td>\n",
       "      <td>...</td>\n",
       "      <td>...</td>\n",
       "      <td>...</td>\n",
       "    </tr>\n",
       "    <tr>\n",
       "      <th>5049</th>\n",
       "      <td>ATXN2</td>\n",
       "      <td>ATXN2</td>\n",
       "      <td>A431</td>\n",
       "      <td>human</td>\n",
       "      <td>6000.0</td>\n",
       "      <td>10000</td>\n",
       "      <td>Electroporation</td>\n",
       "      <td>patent-scrape-v2/data/inhibition_tables/US2024...</td>\n",
       "    </tr>\n",
       "    <tr>\n",
       "      <th>5050</th>\n",
       "      <td>apo(a)</td>\n",
       "      <td>LPA</td>\n",
       "      <td>&lt;NA&gt;</td>\n",
       "      <td>mouse</td>\n",
       "      <td>1000.0</td>\n",
       "      <td>35000</td>\n",
       "      <td>Electroporation</td>\n",
       "      <td>patent-scrape-v2/data/inhibition_tables/US2024...</td>\n",
       "    </tr>\n",
       "    <tr>\n",
       "      <th>5051</th>\n",
       "      <td>Factor 7</td>\n",
       "      <td>F7</td>\n",
       "      <td>&lt;NA&gt;</td>\n",
       "      <td>other</td>\n",
       "      <td>&lt;NA&gt;</td>\n",
       "      <td>&lt;NA&gt;</td>\n",
       "      <td>Other</td>\n",
       "      <td>patent-scrape-v2/data/inhibition_tables/US2012...</td>\n",
       "    </tr>\n",
       "    <tr>\n",
       "      <th>5052</th>\n",
       "      <td>PIM-1</td>\n",
       "      <td>PIM1</td>\n",
       "      <td>A549</td>\n",
       "      <td>human</td>\n",
       "      <td>&lt;NA&gt;</td>\n",
       "      <td>&lt;NA&gt;</td>\n",
       "      <td>Other</td>\n",
       "      <td>patent-scrape-v2/data/inhibition_tables/US2004...</td>\n",
       "    </tr>\n",
       "    <tr>\n",
       "      <th>5053</th>\n",
       "      <td>ANGPTL3</td>\n",
       "      <td>ANGPTL3</td>\n",
       "      <td>Hep3B</td>\n",
       "      <td>human</td>\n",
       "      <td>4500.0</td>\n",
       "      <td>20000</td>\n",
       "      <td>Electroporation</td>\n",
       "      <td>patent-scrape-v2/data/inhibition_tables/US2022...</td>\n",
       "    </tr>\n",
       "  </tbody>\n",
       "</table>\n",
       "<p>5054 rows × 8 columns</p>\n",
       "</div>"
      ],
      "text/plain": [
       "     target_mrna target_gene            cell_line cell_line_species  dosage  \\\n",
       "0            APP         APP              SH-SY5Y             human  4000.0   \n",
       "1            PKK       KLKB1               HepaRG             human  5000.0   \n",
       "2          ATXN2       ATXN2                 A431             human  6000.0   \n",
       "3          PTPRU       PTPRU            RAW 264.7             mouse   100.0   \n",
       "4         apo(a)         LPA  primary hepatocytes             mouse  1000.0   \n",
       "...          ...         ...                  ...               ...     ...   \n",
       "5049       ATXN2       ATXN2                 A431             human  6000.0   \n",
       "5050      apo(a)         LPA                 <NA>             mouse  1000.0   \n",
       "5051    Factor 7          F7                 <NA>             other    <NA>   \n",
       "5052       PIM-1        PIM1                 A549             human    <NA>   \n",
       "5053     ANGPTL3     ANGPTL3                Hep3B             human  4500.0   \n",
       "\n",
       "     cells_per_well transfection_method  \\\n",
       "0             20000     Electroporation   \n",
       "1             20000     Electroporation   \n",
       "2             10000     Electroporation   \n",
       "3              <NA>         Lipofection   \n",
       "4             35000     Electroporation   \n",
       "...             ...                 ...   \n",
       "5049          10000     Electroporation   \n",
       "5050          35000     Electroporation   \n",
       "5051           <NA>               Other   \n",
       "5052           <NA>               Other   \n",
       "5053          20000     Electroporation   \n",
       "\n",
       "                                              custom_id  \n",
       "0     patent-scrape-v2/data/inhibition_tables/US2023...  \n",
       "1     patent-scrape-v2/data/inhibition_tables/US2017...  \n",
       "2     patent-scrape-v2/data/inhibition_tables/US2024...  \n",
       "3     patent-scrape-v2/data/inhibition_tables/US2011...  \n",
       "4     patent-scrape-v2/data/inhibition_tables/US2024...  \n",
       "...                                                 ...  \n",
       "5049  patent-scrape-v2/data/inhibition_tables/US2024...  \n",
       "5050  patent-scrape-v2/data/inhibition_tables/US2024...  \n",
       "5051  patent-scrape-v2/data/inhibition_tables/US2012...  \n",
       "5052  patent-scrape-v2/data/inhibition_tables/US2004...  \n",
       "5053  patent-scrape-v2/data/inhibition_tables/US2022...  \n",
       "\n",
       "[5054 rows x 8 columns]"
      ]
     },
     "execution_count": 7,
     "metadata": {},
     "output_type": "execute_result"
    }
   ],
   "source": [
    "import pandas as pd\n",
    "import json\n",
    "\n",
    "data_list = []\n",
    "\n",
    "# Iterate through each response\n",
    "for item in stage4_batch_response:  # Assuming your data is stored in a variable called 'responses'\n",
    "    custom_id = item['custom_id']\n",
    "    \n",
    "    # Extract the JSON content from the response\n",
    "    content = json.loads(item['response']['body']['output'][1]['content'][0]['text'])\n",
    "    \n",
    "    # Add custom_id to the parsed content\n",
    "    content['custom_id'] = custom_id\n",
    "    \n",
    "    # Append to the data list\n",
    "    data_list.append(content)\n",
    "\n",
    "metadata_df = pd.DataFrame(data_list)\n",
    "metadata_df = metadata_df.replace([\"NA\", -1], pd.NA)\n",
    "metadata_df"
   ]
  },
  {
   "cell_type": "code",
   "execution_count": 8,
   "metadata": {},
   "outputs": [],
   "source": [
    "with open('data/aso_inhibitions_13_08_25.pkl', 'rb') as f:\n",
    "    main_df = pickle.load(f)\n",
    "\n",
    "#merge with metadata_df on custom_id:\n",
    "main_df = main_df.merge(metadata_df, on='custom_id', how='left')"
   ]
  },
  {
   "cell_type": "code",
   "execution_count": 13,
   "metadata": {},
   "outputs": [],
   "source": [
    "def check_steric(chemistry):\n",
    "    if chemistry is None:\n",
    "        return False\n",
    "\n",
    "    for modification in chemistry.modifications:\n",
    "        if modification.modification == 'MOE' and len(modification.positions)  == chemistry.length:\n",
    "            return True\n",
    "    else:\n",
    "        return False\n",
    "    \n",
    "main_df['steric_blocking'] = main_df['chemistry'].apply(check_steric)"
   ]
  },
  {
   "cell_type": "code",
   "execution_count": 14,
   "metadata": {},
   "outputs": [],
   "source": [
    "# List of files to exclude\n",
    "exclude_patterns = [\n",
    "    'patent-scrape-v2/data/inhibition_tables/US20090318532A1_table_00075.xml',\n",
    "    'patent-scrape-v2/data/inhibition_tables/US20230114930A1_table_00005.xml',\n",
    "    'patent-scrape-v2/data/inhibition_tables/US20190382760A1_table_00013.xml',\n",
    "    'patent-scrape-v2/data/inhibition_tables/US20230357776A1_table_00120.xml',\n",
    "    'patent-scrape-v2/data/inhibition_tables/US20220112503A1_table_00011.xml',\n",
    "    #'patent-scrape-v2/data/inhibition_tables/US20250109396A1',\n",
    "    #'patent-scrape-v2/data/inhibition_tables/US20210252039A1',  these are splice switching ASO's.\n",
    "    #'patent-scrape-v2/data/inhibition_tables/US20180127751A1',\n",
    "]\n",
    "\n",
    "# Filter out rows where file_path starts with any of the patterns\n",
    "mask = ~main_df['custom_id'].str.startswith(tuple(exclude_patterns))\n",
    "main_df = main_df[mask]\n",
    "\n",
    "# exclude any rows below -500 - there are a number of inhibitions which are really just IDs?\n",
    "main_df = main_df[main_df['inhibition_percent'] > -1000]\n",
    "\n",
    "with open('data/aso_inhibitions_21_08_25_incl_metadata_df.pkl', 'wb') as f:\n",
    "    pickle.dump(main_df, f)"
   ]
  },
  {
   "cell_type": "code",
   "execution_count": 7,
   "metadata": {},
   "outputs": [
    {
     "name": "stdout",
     "output_type": "stream",
     "text": [
      "Mean inhibition percentage by transfection method:\n",
      "Other: 52.73% (N=28687)\n",
      "Lipofection: 48.43% (N=11342)\n",
      "Electroporation: 41.80% (N=95606)\n",
      "Gymnosis: 40.63% (N=53765)\n"
     ]
    }
   ],
   "source": [
    "# Calculate and print mean inhibition by transfection_method with sample counts\n",
    "grouped = main_df.groupby('transfection_method')\n",
    "mean_inhibition_by_method = grouped['inhibition_percent'].mean().sort_values(ascending=False)\n",
    "counts_by_method = grouped['inhibition_percent'].count()\n",
    "\n",
    "# Create a formatted output with N values\n",
    "print(\"Mean inhibition percentage by transfection method:\")\n",
    "for method in mean_inhibition_by_method.index:\n",
    "    print(f\"{method}: {mean_inhibition_by_method[method]:.2f}% (N={counts_by_method[method]})\")"
   ]
  },
  {
   "cell_type": "code",
   "execution_count": 8,
   "metadata": {},
   "outputs": [
    {
     "data": {
      "image/png": "[encoded data removed]",
      "text/plain": [
       "<Figure size 640x480 with 1 Axes>"
      ]
     },
     "metadata": {},
     "output_type": "display_data"
    }
   ],
   "source": [
    "import matplotlib.pyplot as plt\n",
    "\n",
    "\n",
    "main_df['inhibition_percent'].clip(0,100).plot(kind='hist', bins=10, edgecolor='black')\n",
    "plt.xlabel('Inhibition Percent')\n",
    "plt.ylabel('Frequency')\n",
    "plt.title('Distribution of Inhibition Percent')\n",
    "plt.show()"
   ]
  },
  {
   "cell_type": "code",
   "execution_count": 7,
   "metadata": {},
   "outputs": [],
   "source": [
    "import pickle\n",
    "\n",
    "with open('data/aso_inhibitions_incl_metadata_df.pkl', 'rb') as f:\n",
    "    metadata_df = pickle.load(f)"
   ]
  },
  {
   "cell_type": "code",
   "execution_count": 8,
   "metadata": {},
   "outputs": [
    {
     "name": "stdout",
     "output_type": "stream",
     "text": [
      "Number of overlapping genes: 0\n",
      "Overlapping genes:\n"
     ]
    }
   ],
   "source": [
    "genes_of_interest = {\n",
    "    \"RHOBTB2\", \"EIF2AK2\", \"TUBB4A\", \"KCNT1\", \"FGF12\", \"GFAP\", \n",
    "    \"ITM2B\", \"CDK19\", \"KCNT2\", \"RABT1B\", \"GCDH\", \"NDUFS8\", \n",
    "    \"C12orf57\", \"ACADS\", \"ARSG\", \"PYY3R2\", \"ERLIN2\", \"NDUFA1\", \n",
    "    \"MFSD2A\", \"SLC25A22\", \"GJC2\"\n",
    "}\n",
    "\n",
    "# Get the set of target genes from metadata_df\n",
    "target_genes = set(metadata_df.target_mrna)\n",
    "\n",
    "# Find the overlap between the two sets\n",
    "overlap = genes_of_interest.intersection(target_genes)\n",
    "\n",
    "# Show the overlap\n",
    "print(f\"Number of overlapping genes: {len(overlap)}\")\n",
    "print(\"Overlapping genes:\")\n",
    "for gene in sorted(overlap):\n",
    "    print(f\"- {gene}\")"
   ]
  }
 ],
 "metadata": {
  "kernelspec": {
   "display_name": "asogym",
   "language": "python",
   "name": "python3"
  },
  "language_info": {
   "codemirror_mode": {
    "name": "ipython",
    "version": 3
   },
   "file_extension": ".py",
   "mimetype": "text/x-python",
   "name": "python",
   "nbconvert_exporter": "python",
   "pygments_lexer": "ipython3",
   "version": "3.10.16"
  }
 },
 "nbformat": 4,
 "nbformat_minor": 2
}
